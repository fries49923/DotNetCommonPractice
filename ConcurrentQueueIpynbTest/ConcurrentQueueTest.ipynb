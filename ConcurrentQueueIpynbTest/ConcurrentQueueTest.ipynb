{
 "cells": [
  {
   "cell_type": "code",
   "execution_count": 1,
   "metadata": {
    "polyglot_notebook": {
     "kernelName": "csharp"
    },
    "vscode": {
     "languageId": "polyglot-notebook"
    }
   },
   "outputs": [],
   "source": [
    "using System.Collections.Concurrent;\n",
    "using System.Threading;\n",
    "using System.Threading.Tasks;"
   ]
  },
  {
   "cell_type": "code",
   "execution_count": 2,
   "metadata": {
    "polyglot_notebook": {
     "kernelName": "csharp"
    },
    "vscode": {
     "languageId": "polyglot-notebook"
    }
   },
   "outputs": [
    {
     "name": "stdout",
     "output_type": "stream",
     "text": [
      "outerSum = 49995000, should be 49995000\r\n"
     ]
    }
   ],
   "source": [
    "// Demonstrates:\n",
    "// ConcurrentQueue<T>.Enqueue()\n",
    "// ConcurrentQueue<T>.TryPeek()\n",
    "// ConcurrentQueue<T>.TryDequeue()\n",
    "\n",
    "// Construct a ConcurrentQueue.\n",
    "var cq = new ConcurrentQueue<int>();\n",
    "\n",
    "// Populate the queue.\n",
    "for (int i = 0; i < 10000; i++)\n",
    "{\n",
    "    cq.Enqueue(i);\n",
    "}\n",
    "\n",
    "// Peek at the first element.\n",
    "if (!cq.TryPeek(out int result))\n",
    "{\n",
    "    Console.WriteLine(\"CQ: TryPeek failed when it should have succeeded\");\n",
    "}\n",
    "else if (result != 0)\n",
    "{\n",
    "    Console.WriteLine(\"CQ: Expected TryPeek result of 0, got {0}\", result);\n",
    "}\n",
    "\n",
    "int outerSum = 0;\n",
    "// An action to consume the ConcurrentQueue.\n",
    "Action action = () =>\n",
    "{\n",
    "    int localSum = 0;\n",
    "\n",
    "    // 從ConcurrentQueue中拿出資料\n",
    "    while (cq.TryDequeue(out int localValue))\n",
    "    {\n",
    "        localSum += localValue;\n",
    "    }\n",
    "\n",
    "    // Queue裡面沒資料後，利用locked加進outerSum中\n",
    "    Interlocked.Add(ref outerSum, localSum);\n",
    "};\n",
    "\n",
    "// Start 4 concurrent consuming actions.\n",
    "Parallel.Invoke(action, action, action, action);\n",
    "\n",
    "Console.WriteLine(\"outerSum = {0}, should be 49995000\", outerSum);"
   ]
  },
  {
   "cell_type": "code",
   "execution_count": null,
   "metadata": {
    "polyglot_notebook": {
     "kernelName": "csharp"
    },
    "vscode": {
     "languageId": "polyglot-notebook"
    }
   },
   "outputs": [],
   "source": []
  }
 ],
 "metadata": {
  "kernelspec": {
   "display_name": ".NET (C#)",
   "language": "C#",
   "name": ".net-csharp"
  },
  "language_info": {
   "name": "python"
  },
  "polyglot_notebook": {
   "kernelInfo": {
    "defaultKernelName": "csharp",
    "items": [
     {
      "aliases": [],
      "name": "csharp"
     }
    ]
   }
  }
 },
 "nbformat": 4,
 "nbformat_minor": 2
}
