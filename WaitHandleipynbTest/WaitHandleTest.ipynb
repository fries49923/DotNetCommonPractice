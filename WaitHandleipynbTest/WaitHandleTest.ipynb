{
 "cells": [
  {
   "cell_type": "code",
   "execution_count": 6,
   "metadata": {
    "polyglot_notebook": {
     "kernelName": "csharp"
    },
    "vscode": {
     "languageId": "polyglot-notebook"
    }
   },
   "outputs": [],
   "source": [
    "using System.Threading;\n",
    "using System.Threading.Tasks;"
   ]
  },
  {
   "cell_type": "code",
   "execution_count": 7,
   "metadata": {
    "polyglot_notebook": {
     "kernelName": "csharp"
    },
    "vscode": {
     "languageId": "polyglot-notebook"
    }
   },
   "outputs": [],
   "source": [
    "#nullable enable\n",
    "\n",
    "public class WaitHandleTestObj\n",
    "{\n",
    "    private AutoResetEvent autoResetEvent;\n",
    "    private CancellationTokenSource? ctkSource;\n",
    "\n",
    "    public WaitHandleTestObj()\n",
    "    {\n",
    "        autoResetEvent = new AutoResetEvent(false);\n",
    "    }\n",
    "\n",
    "    public void Run()\n",
    "    {\n",
    "        ctkSource?.Dispose();\n",
    "        ctkSource = null;\n",
    "        ctkSource\n",
    "            = new CancellationTokenSource();\n",
    "\n",
    "        CancellationToken ct\n",
    "            = ctkSource.Token;\n",
    "\n",
    "        autoResetEvent.Reset();\n",
    "\n",
    "        Task.Run(() =>\n",
    "        {\n",
    "            var wh = new WaitHandle[] { autoResetEvent, ct.WaitHandle };\n",
    "\n",
    "            while (true)\n",
    "            {\n",
    "                // do something\n",
    "\n",
    "                Console.WriteLine(\"Before wait.\");\n",
    "                int signaledIndex = WaitHandle.WaitAny(wh);\n",
    "                //int signaledIndex = WaitHandle.WaitAny(wh, 1000);\n",
    "\n",
    "                // The cancellation token wait handle was signaled\n",
    "                if (signaledIndex == 0)\n",
    "                {\n",
    "                    Console.WriteLine(\"autoResetEvent signaled.\");\n",
    "                }\n",
    "                else if (signaledIndex == 1)\n",
    "                {\n",
    "                    Console.WriteLine(\"cancellation token signaled.\");\n",
    "                    break;\n",
    "                }\n",
    "                else if (signaledIndex == WaitHandle.WaitTimeout)\n",
    "                {\n",
    "                    Console.WriteLine(\"timeout signaled.\");\n",
    "                }\n",
    "\n",
    "                Thread.Sleep(100);\n",
    "            }\n",
    "\n",
    "            Console.WriteLine(\"Task end.\");\n",
    "        });\n",
    "    }\n",
    "\n",
    "    public void Set()\n",
    "    {\n",
    "        autoResetEvent.Set();\n",
    "    }\n",
    "\n",
    "    public void Cancel()\n",
    "    {\n",
    "        ctkSource?.Cancel();\n",
    "    }\n",
    "}"
   ]
  },
  {
   "cell_type": "code",
   "execution_count": 8,
   "metadata": {
    "polyglot_notebook": {
     "kernelName": "csharp"
    },
    "vscode": {
     "languageId": "polyglot-notebook"
    }
   },
   "outputs": [
    {
     "name": "stdout",
     "output_type": "stream",
     "text": [
      "Before wait.\n",
      "autoResetEvent signaled.\n"
     ]
    }
   ],
   "source": [
    "var tmpObj = new WaitHandleTestObj();\n",
    "tmpObj.Run();\n",
    "\n",
    "await Task.Delay(2000);\n",
    "\n",
    "tmpObj.Set();"
   ]
  },
  {
   "cell_type": "code",
   "execution_count": 9,
   "metadata": {
    "polyglot_notebook": {
     "kernelName": "csharp"
    },
    "vscode": {
     "languageId": "polyglot-notebook"
    }
   },
   "outputs": [
    {
     "name": "stdout",
     "output_type": "stream",
     "text": [
      "Before wait.\n",
      "cancellation token signaled.\n",
      "Task end.\n"
     ]
    }
   ],
   "source": [
    "var tmpObj2 = new WaitHandleTestObj();\n",
    "tmpObj2.Run();\n",
    "\n",
    "await Task.Delay(2000);\n",
    "\n",
    "tmpObj2.Cancel();"
   ]
  },
  {
   "cell_type": "code",
   "execution_count": null,
   "metadata": {
    "polyglot_notebook": {
     "kernelName": "csharp"
    },
    "vscode": {
     "languageId": "polyglot-notebook"
    }
   },
   "outputs": [],
   "source": []
  }
 ],
 "metadata": {
  "kernelspec": {
   "display_name": ".NET (C#)",
   "language": "C#",
   "name": ".net-csharp"
  },
  "language_info": {
   "name": "python"
  },
  "polyglot_notebook": {
   "kernelInfo": {
    "defaultKernelName": "csharp",
    "items": [
     {
      "aliases": [],
      "name": "csharp"
     }
    ]
   }
  }
 },
 "nbformat": 4,
 "nbformat_minor": 2
}
