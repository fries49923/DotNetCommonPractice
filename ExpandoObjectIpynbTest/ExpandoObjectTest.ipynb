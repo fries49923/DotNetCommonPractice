{
 "cells": [
  {
   "cell_type": "code",
   "execution_count": 1,
   "metadata": {
    "polyglot_notebook": {
     "kernelName": "csharp"
    },
    "vscode": {
     "languageId": "polyglot-notebook"
    }
   },
   "outputs": [],
   "source": [
    "using System.Collections.Generic;\n",
    "using System.Dynamic;"
   ]
  },
  {
   "cell_type": "code",
   "execution_count": 2,
   "metadata": {
    "polyglot_notebook": {
     "kernelName": "csharp"
    },
    "vscode": {
     "languageId": "polyglot-notebook"
    }
   },
   "outputs": [],
   "source": [
    "// 嘗試取得某個屬性\n",
    "public bool TryGetValue(ExpandoObject expando, string key, out object value)\n",
    "{\n",
    "    // 將ExpandoObject轉換為字典\n",
    "    var expandoDict = (IDictionary<string, object>)expando;\n",
    "\n",
    "    // 使用TryGetValue方法\n",
    "    return expandoDict.TryGetValue(key, out value);\n",
    "}\n",
    "\n",
    "// 移除某個屬性\n",
    "public bool RemoveValue(ExpandoObject expando, string key)\n",
    "{\n",
    "    // 將ExpandoObject轉換為字典\n",
    "    var expandoDict = (IDictionary<string, object>)expando;\n",
    "\n",
    "    // 使用Remove方法\n",
    "    return expandoDict.Remove(key);\n",
    "}"
   ]
  },
  {
   "cell_type": "code",
   "execution_count": 3,
   "metadata": {
    "polyglot_notebook": {
     "kernelName": "csharp"
    },
    "vscode": {
     "languageId": "polyglot-notebook"
    }
   },
   "outputs": [
    {
     "name": "stdout",
     "output_type": "stream",
     "text": [
      "Id: 10\n",
      "Get Name fail\n"
     ]
    }
   ],
   "source": [
    "dynamic expandoObj = new ExpandoObject();\n",
    "\n",
    "expandoObj.Id = 10;\n",
    "Console.WriteLine($\"Id: {expandoObj.Id}\");\n",
    "\n",
    "try\n",
    "{\n",
    "    // Get exception\n",
    "    Console.WriteLine($\"Name: {expandoObj.Name}\");\n",
    "}\n",
    "catch(Exception)\n",
    "{\n",
    "    Console.WriteLine(\"Get Name fail\");\n",
    "}\n",
    "\n",
    "if (TryGetValue(expandoObj, \"Name\", out object name))\n",
    "{\n",
    "    Console.WriteLine($\"TryGetValue01 Name: {name}\");\n",
    "}"
   ]
  },
  {
   "cell_type": "code",
   "execution_count": 4,
   "metadata": {
    "polyglot_notebook": {
     "kernelName": "csharp"
    },
    "vscode": {
     "languageId": "polyglot-notebook"
    }
   },
   "outputs": [
    {
     "name": "stdout",
     "output_type": "stream",
     "text": [
      "TryGetValue02 Name: Peter\r\n"
     ]
    }
   ],
   "source": [
    "expandoObj.Name = \"Peter\";\n",
    "if (TryGetValue(expandoObj, \"Name\", out object name2))\n",
    "{\n",
    "    Console.WriteLine($\"TryGetValue02 Name: {name2}\");\n",
    "}"
   ]
  },
  {
   "cell_type": "code",
   "execution_count": 5,
   "metadata": {
    "polyglot_notebook": {
     "kernelName": "csharp"
    },
    "vscode": {
     "languageId": "polyglot-notebook"
    }
   },
   "outputs": [],
   "source": [
    "RemoveValue(expandoObj, \"Name\");\n",
    "if (TryGetValue(expandoObj, \"Name\", out object name3))\n",
    "{\n",
    "    Console.WriteLine($\"TryGetValue03 Name: {name3}\");\n",
    "}"
   ]
  }
 ],
 "metadata": {
  "kernelspec": {
   "display_name": ".NET (C#)",
   "language": "C#",
   "name": ".net-csharp"
  },
  "language_info": {
   "name": "python"
  },
  "polyglot_notebook": {
   "kernelInfo": {
    "defaultKernelName": "csharp",
    "items": [
     {
      "aliases": [],
      "name": "csharp"
     }
    ]
   }
  }
 },
 "nbformat": 4,
 "nbformat_minor": 2
}
