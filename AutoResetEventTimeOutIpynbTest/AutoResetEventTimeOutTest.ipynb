{
 "cells": [
  {
   "cell_type": "code",
   "execution_count": 1,
   "metadata": {
    "polyglot_notebook": {
     "kernelName": "csharp"
    },
    "vscode": {
     "languageId": "polyglot-notebook"
    }
   },
   "outputs": [],
   "source": [
    "using System.Threading;\n",
    "\n",
    "private var autoEvent = new AutoResetEvent(false);\n",
    "\n",
    "private void FunctionA()\n",
    "{\n",
    "    new Thread(() =>\n",
    "    {\n",
    "        // 做一些事情...\n",
    "        Random rand = new Random();\n",
    "        int sleepTime = rand.Next(1000, 3000); // 產生隨機數字\n",
    "        Console.WriteLine(\"Sleeping for \" + sleepTime + \" millisecond...\");\n",
    "        Thread.Sleep(sleepTime); // 將秒數轉換為毫秒\n",
    "        Console.WriteLine(\"Awake!\\n\");\n",
    "\n",
    "        autoEvent.Set();\n",
    "    }).Start();\n",
    "}"
   ]
  },
  {
   "cell_type": "code",
   "execution_count": 2,
   "metadata": {
    "polyglot_notebook": {
     "kernelName": "csharp"
    },
    "vscode": {
     "languageId": "polyglot-notebook"
    }
   },
   "outputs": [],
   "source": [
    "private void Run()\n",
    "{\n",
    "    Console.WriteLine(\"Start\\n\");\n",
    "\n",
    "    autoEvent.Reset();\n",
    "\n",
    "    FunctionA();\n",
    "\n",
    "    // 等待function 完成，或者超時(例如 2000 毫秒)\n",
    "    bool timeOutFlag = autoEvent.WaitOne(2000);\n",
    "\n",
    "    if (timeOutFlag)\n",
    "    {\n",
    "        Console.WriteLine(\"autoEvent Done\\n\");\n",
    "    }\n",
    "    else\n",
    "    {\n",
    "        // 超時處理...\n",
    "        Console.WriteLine(\"autoEvent TimeOut\\n\");\n",
    "    }\n",
    "}"
   ]
  },
  {
   "cell_type": "code",
   "execution_count": 3,
   "metadata": {
    "polyglot_notebook": {
     "kernelName": "csharp"
    },
    "vscode": {
     "languageId": "polyglot-notebook"
    }
   },
   "outputs": [
    {
     "name": "stdout",
     "output_type": "stream",
     "text": [
      "Start\n",
      "\n",
      "Sleeping for 1367 millisecond...\n",
      "Awake!\n",
      "\n",
      "autoEvent Done\n",
      "\n"
     ]
    }
   ],
   "source": [
    "Run()"
   ]
  },
  {
   "cell_type": "code",
   "execution_count": 4,
   "metadata": {
    "polyglot_notebook": {
     "kernelName": "csharp"
    },
    "vscode": {
     "languageId": "polyglot-notebook"
    }
   },
   "outputs": [
    {
     "name": "stdout",
     "output_type": "stream",
     "text": [
      "Start\n",
      "\n",
      "Sleeping for 2632 millisecond...\n",
      "autoEvent TimeOut\n",
      "\n"
     ]
    }
   ],
   "source": [
    "Run()"
   ]
  },
  {
   "cell_type": "code",
   "execution_count": null,
   "metadata": {
    "polyglot_notebook": {
     "kernelName": "csharp"
    },
    "vscode": {
     "languageId": "polyglot-notebook"
    }
   },
   "outputs": [],
   "source": []
  }
 ],
 "metadata": {
  "kernelspec": {
   "display_name": ".NET (C#)",
   "language": "C#",
   "name": ".net-csharp"
  },
  "language_info": {
   "name": "python"
  },
  "polyglot_notebook": {
   "kernelInfo": {
    "defaultKernelName": "csharp",
    "items": [
     {
      "aliases": [],
      "name": "csharp"
     }
    ]
   }
  }
 },
 "nbformat": 4,
 "nbformat_minor": 2
}
