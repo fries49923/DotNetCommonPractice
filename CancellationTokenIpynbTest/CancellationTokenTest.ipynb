{
 "cells": [
  {
   "cell_type": "code",
   "execution_count": null,
   "metadata": {
    "polyglot_notebook": {
     "kernelName": "csharp"
    },
    "vscode": {
     "languageId": "polyglot-notebook"
    }
   },
   "outputs": [
    {
     "name": "stdout",
     "output_type": "stream",
     "text": [
      "Time Out!\n",
      "A task was canceled.\n"
     ]
    }
   ],
   "source": [
    "using System.Threading;\n",
    "using System.Threading.Tasks;\n",
    "\n",
    "bool flag = true;\n",
    "\n",
    "// 建立一個 CancellationTokenSource，並設定超時時間為3秒\n",
    "CancellationTokenSource cts =\n",
    "    new CancellationTokenSource(TimeSpan.FromSeconds(3));\n",
    "CancellationToken token = cts.Token;\n",
    "\n",
    "try\n",
    "{\n",
    "    while (flag)\n",
    "    {\n",
    "        // 100ms確認取消請求被觸發\n",
    "        // 則Task.Delay會提前完成\n",
    "        // 並拋出OperationCanceledException異常\n",
    "        await Task.Delay(100, token);\n",
    "\n",
    "        // 如果在Task.Delay期間取消請求被觸發\n",
    "        // 則會提前完成並拋出OperationCanceledException異常\n",
    "        // 如果在Task.Delay之外需要檢查取消請求\n",
    "        // 則可以使用下列程式\n",
    "        token.ThrowIfCancellationRequested();\n",
    "    }\n",
    "\n",
    "    Console.WriteLine(\"Done\");\n",
    "}\n",
    "catch (Exception ex)\n",
    "{\n",
    "    Console.WriteLine(\"Time Out!\");\n",
    "    Console.WriteLine(ex.Message);\n",
    "}"
   ]
  },
  {
   "cell_type": "code",
   "execution_count": null,
   "metadata": {
    "polyglot_notebook": {
     "kernelName": "csharp"
    },
    "vscode": {
     "languageId": "polyglot-notebook"
    }
   },
   "outputs": [],
   "source": []
  }
 ],
 "metadata": {
  "kernelspec": {
   "display_name": ".NET (C#)",
   "language": "C#",
   "name": ".net-csharp"
  },
  "language_info": {
   "name": "python"
  },
  "polyglot_notebook": {
   "kernelInfo": {
    "defaultKernelName": "csharp",
    "items": [
     {
      "aliases": [],
      "name": "csharp"
     }
    ]
   }
  }
 },
 "nbformat": 4,
 "nbformat_minor": 2
}
