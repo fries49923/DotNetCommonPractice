{
 "cells": [
  {
   "cell_type": "code",
   "execution_count": 1,
   "metadata": {
    "polyglot_notebook": {
     "kernelName": "csharp"
    },
    "vscode": {
     "languageId": "polyglot-notebook"
    }
   },
   "outputs": [],
   "source": [
    "public class Order\n",
    "{\n",
    "    public string Name { get; set; }\n",
    "\n",
    "    public Order(string name)\n",
    "    {\n",
    "        Name = name;\n",
    "        Console.WriteLine(\"Order Constructor Run, Name is \" + Name ?? \"No name\");\n",
    "    }\n",
    "}"
   ]
  },
  {
   "cell_type": "code",
   "execution_count": 2,
   "metadata": {
    "polyglot_notebook": {
     "kernelName": "csharp"
    },
    "vscode": {
     "languageId": "polyglot-notebook"
    }
   },
   "outputs": [
    {
     "name": "stdout",
     "output_type": "stream",
     "text": [
      "Order Constructor Run, Name is Normal Order\n",
      "Normal Order Finish\n",
      "Order Name Normal Order\n",
      "----------------------------\n",
      "\n",
      "Lazy Order Finish\n",
      "Order Constructor Run, Name is Lazy Order\n",
      "Order Name Lazy Order\n"
     ]
    }
   ],
   "source": [
    "Order order1 = new Order(\"Normal Order\");\n",
    "Console.WriteLine(\"Normal Order Finish\");\n",
    "Console.WriteLine($\"Order Name {order1.Name}\");\n",
    "Console.WriteLine(\"----------------------------\\n\");\n",
    "\n",
    "Lazy<Order> order2 = new Lazy<Order>(() => new Order(\"Lazy Order\"));\n",
    "Console.WriteLine(\"Lazy Order Finish\");\n",
    "// order2.IsValueCreated will be false\n",
    "Console.WriteLine($\"Order Name {order2.Value.Name}\");\n",
    "// order2.IsValueCreated will be true;"
   ]
  },
  {
   "cell_type": "code",
   "execution_count": 3,
   "metadata": {
    "polyglot_notebook": {
     "kernelName": "csharp"
    },
    "vscode": {
     "languageId": "polyglot-notebook"
    }
   },
   "outputs": [],
   "source": []
  }
 ],
 "metadata": {
  "kernelspec": {
   "display_name": ".NET (C#)",
   "language": "C#",
   "name": ".net-csharp"
  },
  "language_info": {
   "name": "python"
  },
  "polyglot_notebook": {
   "kernelInfo": {
    "defaultKernelName": "csharp",
    "items": [
     {
      "aliases": [],
      "name": "csharp"
     }
    ]
   }
  }
 },
 "nbformat": 4,
 "nbformat_minor": 2
}
