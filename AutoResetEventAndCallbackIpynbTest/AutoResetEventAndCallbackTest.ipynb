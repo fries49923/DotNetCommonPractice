{
 "cells": [
  {
   "cell_type": "code",
   "execution_count": 1,
   "metadata": {
    "polyglot_notebook": {
     "kernelName": "csharp"
    },
    "vscode": {
     "languageId": "polyglot-notebook"
    }
   },
   "outputs": [],
   "source": [
    "using System.Threading;\n",
    "\n",
    "private var autoEvent = new AutoResetEvent(false);\n",
    "\n",
    "private void Callback()\n",
    "{\n",
    "    Console.WriteLine(\"Call Callback.\");\n",
    "    Thread.Sleep(100);\n",
    "\n",
    "    // 通知 Thread A 可以繼續執行\n",
    "    autoEvent.Set();\n",
    "}\n",
    "\n",
    "private void FunctionA(Action callback)\n",
    "{\n",
    "    new Thread(() =>\n",
    "    {\n",
    "        // 做一些事情...\n",
    "        Random rand = new Random();\n",
    "        int sleepTime = rand.Next(1000, 3000); // 產生隨機數字\n",
    "        Console.WriteLine(\"Sleeping for \" + sleepTime + \" millisecond...\");\n",
    "        Thread.Sleep(sleepTime); // 將秒數轉換為毫秒\n",
    "        Console.WriteLine(\"Awake!\\n\");\n",
    "\n",
    "        // 呼叫 callback function\n",
    "        callback();\n",
    "    }).Start();\n",
    "}\n",
    "\n",
    "private void ThreadAStart()\n",
    "{\n",
    "    // 做一些事情...\n",
    "    Console.WriteLine(\"ThreadAStart start\\n\");\n",
    "\n",
    "    for(int i = 0; i < 2;i++)\n",
    "    {\n",
    "        Console.WriteLine(\"--------------------\");\n",
    "        Console.WriteLine($\"i = {i}\");\n",
    "\n",
    "        // 呼叫 function A\n",
    "        Console.WriteLine(\"Call FunctionA\");\n",
    "        FunctionA(Callback);\n",
    "\n",
    "        // 等待 callback function 完成\n",
    "        Console.WriteLine(\"autoEvent.WaitOne before\");\n",
    "        autoEvent.WaitOne();\n",
    "        Console.WriteLine(\"autoEvent.WaitOne after\\n\");\n",
    "    }\n",
    "\n",
    "    Console.WriteLine(\"ThreadAStart finish\");\n",
    "}"
   ]
  },
  {
   "cell_type": "code",
   "execution_count": 2,
   "metadata": {
    "polyglot_notebook": {
     "kernelName": "csharp"
    },
    "vscode": {
     "languageId": "polyglot-notebook"
    }
   },
   "outputs": [
    {
     "name": "stdout",
     "output_type": "stream",
     "text": [
      "ThreadAStart start\n",
      "\n",
      "--------------------\n",
      "i = 0\n",
      "Call FunctionA\n",
      "autoEvent.WaitOne before\n",
      "Sleeping for 1992 millisecond...\n",
      "Awake!\n",
      "\n",
      "Call Callback.\n",
      "autoEvent.WaitOne after\n",
      "\n",
      "--------------------\n",
      "i = 1\n",
      "Call FunctionA\n",
      "autoEvent.WaitOne before\n",
      "Sleeping for 1127 millisecond...\n",
      "Awake!\n",
      "\n",
      "Call Callback.\n",
      "autoEvent.WaitOne after\n",
      "\n",
      "ThreadAStart finish\n"
     ]
    }
   ],
   "source": [
    " ThreadAStart();"
   ]
  },
  {
   "cell_type": "code",
   "execution_count": null,
   "metadata": {
    "polyglot_notebook": {
     "kernelName": "csharp"
    },
    "vscode": {
     "languageId": "polyglot-notebook"
    }
   },
   "outputs": [],
   "source": []
  }
 ],
 "metadata": {
  "kernelspec": {
   "display_name": ".NET (C#)",
   "language": "C#",
   "name": ".net-csharp"
  },
  "language_info": {
   "name": "python"
  },
  "polyglot_notebook": {
   "kernelInfo": {
    "defaultKernelName": "csharp",
    "items": [
     {
      "aliases": [],
      "name": "csharp"
     }
    ]
   }
  }
 },
 "nbformat": 4,
 "nbformat_minor": 2
}
