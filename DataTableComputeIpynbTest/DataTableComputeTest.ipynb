{
 "cells": [
  {
   "cell_type": "code",
   "execution_count": 1,
   "metadata": {
    "polyglot_notebook": {
     "kernelName": "csharp"
    },
    "vscode": {
     "languageId": "polyglot-notebook"
    }
   },
   "outputs": [],
   "source": [
    "using System.Data;"
   ]
  },
  {
   "cell_type": "code",
   "execution_count": 2,
   "metadata": {
    "polyglot_notebook": {
     "kernelName": "csharp"
    },
    "vscode": {
     "languageId": "polyglot-notebook"
    }
   },
   "outputs": [
    {
     "name": "stdout",
     "output_type": "stream",
     "text": [
      "Example01: 6\r\n"
     ]
    }
   ],
   "source": [
    "private void Example01()\n",
    "{\n",
    "    string expression = \"a + b + c\";\n",
    "    var values = new Dictionary<string, object> { { \"a\", 1 }, { \"b\", 2 }, { \"c\", 3 } };\n",
    "\n",
    "    foreach (var pair in values)\n",
    "    {\n",
    "        expression = expression.Replace(pair.Key, pair.Value.ToString());\n",
    "    }\n",
    "\n",
    "    var result = new DataTable().Compute(expression, null);\n",
    "    Console.WriteLine($\"Example01: {result}\");\n",
    "}\n",
    "\n",
    "Example01();"
   ]
  },
  {
   "cell_type": "code",
   "execution_count": 3,
   "metadata": {
    "polyglot_notebook": {
     "kernelName": "csharp"
    },
    "vscode": {
     "languageId": "polyglot-notebook"
    }
   },
   "outputs": [
    {
     "name": "stdout",
     "output_type": "stream",
     "text": [
      "Example02: False\r\n"
     ]
    }
   ],
   "source": [
    "private void Example02()\n",
    "{\n",
    "    string expression = \"a > b\";\n",
    "    var values = new Dictionary<string, object> { { \"a\", 1 }, { \"b\", 2 } };\n",
    "\n",
    "    foreach (var pair in values)\n",
    "    {\n",
    "        expression = expression.Replace(pair.Key, pair.Value.ToString());\n",
    "    }\n",
    "\n",
    "    bool result = (bool)new DataTable().Compute(expression, null);\n",
    "    Console.WriteLine($\"Example02: {result}\");\n",
    "}\n",
    "\n",
    "Example02();"
   ]
  },
  {
   "cell_type": "code",
   "execution_count": 4,
   "metadata": {
    "polyglot_notebook": {
     "kernelName": "csharp"
    },
    "vscode": {
     "languageId": "polyglot-notebook"
    }
   },
   "outputs": [
    {
     "name": "stdout",
     "output_type": "stream",
     "text": [
      "Example03: True\r\n"
     ]
    }
   ],
   "source": [
    "private void Example03()\n",
    "{\n",
    "   // && 需要用 AND 才可正常執行，同理 || 要改用 OR\n",
    "   string expression = \"a > 0 AND a < 10\";\n",
    "   var values = new Dictionary<string, object> { { \"a\", 5 } };\n",
    "\n",
    "   foreach (var pair in values)\n",
    "   {\n",
    "       expression = expression.Replace(pair.Key, pair.Value.ToString());\n",
    "   }\n",
    "\n",
    "   bool result = (bool)new DataTable().Compute(expression, null);\n",
    "   Console.WriteLine($\"Example03: {result}\");\n",
    "}\n",
    "\n",
    "Example03();"
   ]
  },
  {
   "cell_type": "code",
   "execution_count": null,
   "metadata": {
    "polyglot_notebook": {
     "kernelName": "csharp"
    },
    "vscode": {
     "languageId": "polyglot-notebook"
    }
   },
   "outputs": [],
   "source": []
  }
 ],
 "metadata": {
  "kernelspec": {
   "display_name": ".NET (C#)",
   "language": "C#",
   "name": ".net-csharp"
  },
  "language_info": {
   "name": "python"
  },
  "polyglot_notebook": {
   "kernelInfo": {
    "defaultKernelName": "csharp",
    "items": [
     {
      "aliases": [],
      "name": "csharp"
     }
    ]
   }
  }
 },
 "nbformat": 4,
 "nbformat_minor": 2
}
