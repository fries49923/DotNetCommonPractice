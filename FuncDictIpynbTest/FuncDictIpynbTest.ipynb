{
 "cells": [
  {
   "cell_type": "code",
   "execution_count": 14,
   "metadata": {
    "polyglot_notebook": {
     "kernelName": "csharp"
    },
    "vscode": {
     "languageId": "polyglot-notebook"
    }
   },
   "outputs": [],
   "source": [
    "public class FunctionDictionary\n",
    "{\n",
    "    public Dictionary<string, Action<string>> Funcs\n",
    "    { get; private set; }\n",
    "\n",
    "    public FunctionDictionary()\n",
    "    {\n",
    "        Funcs = new();\n",
    "\n",
    "        // ex1: 加入命名方法\n",
    "        Funcs.Add(\"Command01\", Function01);\n",
    "\n",
    "        // ex2: 使用 Lambda 表達式建立變數後加入\n",
    "        Action<string> func2 =\n",
    "            para => { Console.WriteLine(\"Function02 Action -> para:\" + para); };\n",
    "        Funcs.Add(\"Command02\", func2);\n",
    "\n",
    "        // ex3: 直接使用 Lambda Inline 加入\n",
    "        Funcs.Add(\"Command03\",\n",
    "            para => { Console.WriteLine(\"Function03 Lambda -> para:\" + para); });\n",
    "    }\n",
    "\n",
    "    private void Function01(string para)\n",
    "    {\n",
    "        Console.WriteLine(\"Function01-> para:\" + para);\n",
    "    }\n",
    "}"
   ]
  },
  {
   "cell_type": "code",
   "execution_count": 15,
   "metadata": {
    "polyglot_notebook": {
     "kernelName": "csharp"
    },
    "vscode": {
     "languageId": "polyglot-notebook"
    }
   },
   "outputs": [
    {
     "name": "stdout",
     "output_type": "stream",
     "text": [
      "Function01-> para:Car\r\n"
     ]
    }
   ],
   "source": [
    "var funList = new FunctionDictionary().Funcs;\n",
    "\n",
    "// 隨機選擇指令和參數，模擬從外部接收到的指令與參數\n",
    "var commands = new[] { \"Command01\", \"Command02\", \"Command03\" };\n",
    "var parameters = new[] { \"Apple\", \"Banana\", \"Car\" };\n",
    "var random = new Random();\n",
    "var command = commands[random.Next(commands.Length)];\n",
    "var para = parameters[random.Next(parameters.Length)];\n",
    "\n",
    "if (funList.TryGetValue(command, out var action))\n",
    "{\n",
    "    action?.Invoke(para);\n",
    "}"
   ]
  },
  {
   "cell_type": "code",
   "execution_count": null,
   "metadata": {
    "polyglot_notebook": {
     "kernelName": "csharp"
    },
    "vscode": {
     "languageId": "polyglot-notebook"
    }
   },
   "outputs": [],
   "source": []
  }
 ],
 "metadata": {
  "kernelspec": {
   "display_name": ".NET (C#)",
   "language": "C#",
   "name": ".net-csharp"
  },
  "language_info": {
   "name": "python"
  },
  "polyglot_notebook": {
   "kernelInfo": {
    "defaultKernelName": "csharp",
    "items": [
     {
      "aliases": [],
      "name": "csharp"
     }
    ]
   }
  }
 },
 "nbformat": 4,
 "nbformat_minor": 2
}
