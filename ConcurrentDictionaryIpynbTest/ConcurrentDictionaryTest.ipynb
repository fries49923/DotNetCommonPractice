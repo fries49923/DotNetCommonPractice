{
 "cells": [
  {
   "cell_type": "code",
   "execution_count": 1,
   "metadata": {
    "polyglot_notebook": {
     "kernelName": "csharp"
    },
    "vscode": {
     "languageId": "polyglot-notebook"
    }
   },
   "outputs": [],
   "source": [
    "using System.Collections.Concurrent;\n",
    "using System.Threading;\n",
    "using System.Threading.Tasks;"
   ]
  },
  {
   "cell_type": "code",
   "execution_count": 2,
   "metadata": {
    "polyglot_notebook": {
     "kernelName": "csharp"
    },
    "vscode": {
     "languageId": "polyglot-notebook"
    }
   },
   "outputs": [
    {
     "name": "stdout",
     "output_type": "stream",
     "text": [
      "Sum: 49995000\r\n"
     ]
    }
   ],
   "source": [
    "private void Test01()\n",
    "{\n",
    "    var cd = new ConcurrentDictionary<int, int>();\n",
    "\n",
    "    // 將數字 0 到 9999 的存儲在 ConcurrentDictionary 中\n",
    "    Parallel.For(0, 10000, i =>\n",
    "    {\n",
    "        cd[i] = i;\n",
    "    });\n",
    "\n",
    "    int sum = 0;\n",
    "\n",
    "    // 定義一個操作來消耗 ConcurrentDictionary\n",
    "    Action action = () =>\n",
    "    {\n",
    "        int localSum = 0;\n",
    "\n",
    "        // 從 ConcurrentDictionary 中取出數據\n",
    "        while (cd.TryRemove(cd.Keys.FirstOrDefault(), out int value))\n",
    "        {\n",
    "            localSum += value;\n",
    "        }\n",
    "\n",
    "        // 將 localSum 加到 sum 中\n",
    "        Interlocked.Add(ref sum, localSum);\n",
    "    };\n",
    "\n",
    "    // 啟動 4 個並行操作\n",
    "    Parallel.Invoke(action, action, action, action);\n",
    "    Console.WriteLine(\"Sum: {0}\", sum);\n",
    "}\n",
    "\n",
    "Test01();"
   ]
  },
  {
   "cell_type": "code",
   "execution_count": 3,
   "metadata": {
    "polyglot_notebook": {
     "kernelName": "csharp"
    },
    "vscode": {
     "languageId": "polyglot-notebook"
    }
   },
   "outputs": [
    {
     "name": "stdout",
     "output_type": "stream",
     "text": [
      "result: False\r\n"
     ]
    }
   ],
   "source": [
    "private void Test02()\n",
    "{\n",
    "    var myDict = new ConcurrentDictionary<string, bool>();\n",
    "\n",
    "    // 添加一些元素\n",
    "    myDict.TryAdd(\"A\", false);\n",
    "    myDict.TryAdd(\"B\", true);\n",
    "    myDict.TryAdd(\"C\", false);\n",
    "\n",
    "    myDict[\"B\"] = false;\n",
    "\n",
    "    // 使用 LINQ 查詢查找是否存在值為 true 的元素\n",
    "    bool result = myDict.Any(x => x.Value == true);\n",
    "\n",
    "    Console.WriteLine(\"result: \" + result);\n",
    "}\n",
    "\n",
    "Test02();"
   ]
  },
  {
   "cell_type": "code",
   "execution_count": 4,
   "metadata": {
    "polyglot_notebook": {
     "kernelName": "csharp"
    },
    "vscode": {
     "languageId": "polyglot-notebook"
    }
   },
   "outputs": [
    {
     "name": "stdout",
     "output_type": "stream",
     "text": [
      "result: True\r\n"
     ]
    }
   ],
   "source": [
    "private void Test03()\n",
    "{\n",
    "    var myDict = new ConcurrentDictionary<string, bool>();\n",
    "\n",
    "    // 使用 LINQ 查詢查找是否存在值為 true 的元素\n",
    "    // 因為裡面沒有任何一個元素，因此結果為false\n",
    "    bool result = myDict.Any(x => x.Value == true);\n",
    "\n",
    "    // 添加一些元素\n",
    "    myDict.TryAdd(\"A\", false);\n",
    "    myDict.TryAdd(\"B\", true);\n",
    "    myDict.TryAdd(\"C\", false);\n",
    "\n",
    "    // 第二次的 myDict.TryAdd(\"A\", true) 無效是因為 TryAdd 方法嘗試將指定的索引鍵和值加入至 ConcurrentDictionary<TKey,TValue>\n",
    "    // 如果索引鍵已經存在，這個方法會傳回 false\n",
    "    // 由於前面已經成功添加了索引鍵 \"A\"，所以第二次嘗試添加相同的索引鍵時會失敗。\n",
    "    myDict.TryAdd(\"A\", true); // 無效\n",
    "\n",
    "    myDict[\"B\"] = false;\n",
    "\n",
    "    // 如果字典中不存在該索引鍵，則會自動添加一個新的索引鍵/值對\n",
    "    // 這個操作不是使用 TryAdd 方法來完成的，而是通過索引器來實現的\n",
    "    // 根據 MSDN 文檔，ConcurrentDictionary<TKey, TValue> 的所有公共和受保護成員都是線程安全的，可以從多個線程同時使用\n",
    "    // 這意味著可以在多個線程中安全地使用索引器來訪問和修改字典中的元素，而不需要額外的同步。\n",
    "    myDict[\"D\"] = true;\n",
    "\n",
    "    // 使用 LINQ 查詢查找是否存在值為 true 的元素\n",
    "    result = myDict.Any(x => x.Value == true);\n",
    "\n",
    "    Console.WriteLine(\"result: \" + result);\n",
    "}\n",
    "\n",
    "Test03();"
   ]
  },
  {
   "cell_type": "code",
   "execution_count": null,
   "metadata": {
    "polyglot_notebook": {
     "kernelName": "csharp"
    },
    "vscode": {
     "languageId": "polyglot-notebook"
    }
   },
   "outputs": [],
   "source": []
  }
 ],
 "metadata": {
  "kernelspec": {
   "display_name": ".NET (C#)",
   "language": "C#",
   "name": ".net-csharp"
  },
  "language_info": {
   "name": "python"
  },
  "polyglot_notebook": {
   "kernelInfo": {
    "defaultKernelName": "csharp",
    "items": [
     {
      "aliases": [],
      "name": "csharp"
     }
    ]
   }
  }
 },
 "nbformat": 4,
 "nbformat_minor": 2
}
